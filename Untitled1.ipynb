{
 "cells": [
  {
   "cell_type": "code",
   "execution_count": 1,
   "metadata": {},
   "outputs": [],
   "source": [
    "import pandas as pd"
   ]
  },
  {
   "cell_type": "code",
   "execution_count": 2,
   "metadata": {},
   "outputs": [],
   "source": [
    "df = pd.read_csv(\"movies.csv\")"
   ]
  },
  {
   "cell_type": "code",
   "execution_count": 3,
   "metadata": {},
   "outputs": [],
   "source": [
    "plotDF = df.loc[:, ['name', 'description']]"
   ]
  },
  {
   "cell_type": "code",
   "execution_count": 5,
   "metadata": {},
   "outputs": [
    {
     "data": {
      "text/html": [
       "<div>\n",
       "<style scoped>\n",
       "    .dataframe tbody tr th:only-of-type {\n",
       "        vertical-align: middle;\n",
       "    }\n",
       "\n",
       "    .dataframe tbody tr th {\n",
       "        vertical-align: top;\n",
       "    }\n",
       "\n",
       "    .dataframe thead th {\n",
       "        text-align: right;\n",
       "    }\n",
       "</style>\n",
       "<table border=\"1\" class=\"dataframe\">\n",
       "  <thead>\n",
       "    <tr style=\"text-align: right;\">\n",
       "      <th></th>\n",
       "      <th>name</th>\n",
       "      <th>description</th>\n",
       "    </tr>\n",
       "  </thead>\n",
       "  <tbody>\n",
       "    <tr>\n",
       "      <th>0</th>\n",
       "      <td>neerja</td>\n",
       "      <td>neerja is the story of the courageous neerja b...</td>\n",
       "    </tr>\n",
       "    <tr>\n",
       "      <th>1</th>\n",
       "      <td>udta punjab</td>\n",
       "      <td>a story that revolves around drug abuse in the...</td>\n",
       "    </tr>\n",
       "    <tr>\n",
       "      <th>2</th>\n",
       "      <td>kabhi khushi kabhie gham...</td>\n",
       "      <td>yashvardhan raichand lives a very wealthy life...</td>\n",
       "    </tr>\n",
       "    <tr>\n",
       "      <th>3</th>\n",
       "      <td>kal ho naa ho</td>\n",
       "      <td>naina, an introverted, perpetually depressed g...</td>\n",
       "    </tr>\n",
       "    <tr>\n",
       "      <th>4</th>\n",
       "      <td>parched</td>\n",
       "      <td>'parched' is a story about women set in the he...</td>\n",
       "    </tr>\n",
       "    <tr>\n",
       "      <th>...</th>\n",
       "      <td>...</td>\n",
       "      <td>...</td>\n",
       "    </tr>\n",
       "    <tr>\n",
       "      <th>2838</th>\n",
       "      <td>run antony</td>\n",
       "      <td>antony is depressed and wants to commit suicid...</td>\n",
       "    </tr>\n",
       "    <tr>\n",
       "      <th>2841</th>\n",
       "      <td>jolly days</td>\n",
       "      <td>a bubbly tale, the story is about four pairs o...</td>\n",
       "    </tr>\n",
       "    <tr>\n",
       "      <th>2842</th>\n",
       "      <td>the great story of sodabuddi</td>\n",
       "      <td>the film tells the story of sodabuddi, who spe...</td>\n",
       "    </tr>\n",
       "    <tr>\n",
       "      <th>2844</th>\n",
       "      <td>vamshi</td>\n",
       "      <td>vamshi, under the eye of his mother is living ...</td>\n",
       "    </tr>\n",
       "    <tr>\n",
       "      <th>2847</th>\n",
       "      <td>chaddi dosth</td>\n",
       "      <td>the plot is simple. ranganna (rangayana raghu)...</td>\n",
       "    </tr>\n",
       "  </tbody>\n",
       "</table>\n",
       "<p>1751 rows × 2 columns</p>\n",
       "</div>"
      ],
      "text/plain": [
       "                              name  \\\n",
       "0                           neerja   \n",
       "1                      udta punjab   \n",
       "2      kabhi khushi kabhie gham...   \n",
       "3                    kal ho naa ho   \n",
       "4                          parched   \n",
       "...                            ...   \n",
       "2838                    run antony   \n",
       "2841                    jolly days   \n",
       "2842  the great story of sodabuddi   \n",
       "2844                        vamshi   \n",
       "2847                  chaddi dosth   \n",
       "\n",
       "                                            description  \n",
       "0     neerja is the story of the courageous neerja b...  \n",
       "1     a story that revolves around drug abuse in the...  \n",
       "2     yashvardhan raichand lives a very wealthy life...  \n",
       "3     naina, an introverted, perpetually depressed g...  \n",
       "4     'parched' is a story about women set in the he...  \n",
       "...                                                 ...  \n",
       "2838  antony is depressed and wants to commit suicid...  \n",
       "2841  a bubbly tale, the story is about four pairs o...  \n",
       "2842  the film tells the story of sodabuddi, who spe...  \n",
       "2844  vamshi, under the eye of his mother is living ...  \n",
       "2847  the plot is simple. ranganna (rangayana raghu)...  \n",
       "\n",
       "[1751 rows x 2 columns]"
      ]
     },
     "execution_count": 5,
     "metadata": {},
     "output_type": "execute_result"
    }
   ],
   "source": [
    "plotDF.loc[:, 'name'] = plotDF.loc[:, 'name'].str.lower()\n",
    "plotDF.loc[:, 'description'] = plotDF.loc[:, 'description'].str.lower()\n",
    "plotDF.dropna(subset = [\"description\"], inplace=True)\n",
    "plotDF"
   ]
  },
  {
   "cell_type": "code",
   "execution_count": 6,
   "metadata": {},
   "outputs": [
    {
     "data": {
      "text/html": [
       "<div>\n",
       "<style scoped>\n",
       "    .dataframe tbody tr th:only-of-type {\n",
       "        vertical-align: middle;\n",
       "    }\n",
       "\n",
       "    .dataframe tbody tr th {\n",
       "        vertical-align: top;\n",
       "    }\n",
       "\n",
       "    .dataframe thead th {\n",
       "        text-align: right;\n",
       "    }\n",
       "</style>\n",
       "<table border=\"1\" class=\"dataframe\">\n",
       "  <thead>\n",
       "    <tr style=\"text-align: right;\">\n",
       "      <th></th>\n",
       "      <th>name</th>\n",
       "      <th>description</th>\n",
       "    </tr>\n",
       "  </thead>\n",
       "  <tbody>\n",
       "    <tr>\n",
       "      <th>0</th>\n",
       "      <td>neerja</td>\n",
       "      <td>neerja is the story of the courageous neerja b...</td>\n",
       "    </tr>\n",
       "    <tr>\n",
       "      <th>1</th>\n",
       "      <td>udta punjab</td>\n",
       "      <td>a story that revolves around drug abuse in the...</td>\n",
       "    </tr>\n",
       "    <tr>\n",
       "      <th>2</th>\n",
       "      <td>kabhi khushi kabhie gham...</td>\n",
       "      <td>yashvardhan raichand lives a very wealthy life...</td>\n",
       "    </tr>\n",
       "    <tr>\n",
       "      <th>3</th>\n",
       "      <td>kal ho naa ho</td>\n",
       "      <td>naina, an introverted, perpetually depressed g...</td>\n",
       "    </tr>\n",
       "    <tr>\n",
       "      <th>4</th>\n",
       "      <td>parched</td>\n",
       "      <td>'parched' is a story about women set in the he...</td>\n",
       "    </tr>\n",
       "    <tr>\n",
       "      <th>...</th>\n",
       "      <td>...</td>\n",
       "      <td>...</td>\n",
       "    </tr>\n",
       "    <tr>\n",
       "      <th>2838</th>\n",
       "      <td>run antony</td>\n",
       "      <td>antony is depressed and wants to commit suicid...</td>\n",
       "    </tr>\n",
       "    <tr>\n",
       "      <th>2841</th>\n",
       "      <td>jolly days</td>\n",
       "      <td>a bubbly tale, the story is about four pairs o...</td>\n",
       "    </tr>\n",
       "    <tr>\n",
       "      <th>2842</th>\n",
       "      <td>the great story of sodabuddi</td>\n",
       "      <td>the film tells the story of sodabuddi, who spe...</td>\n",
       "    </tr>\n",
       "    <tr>\n",
       "      <th>2844</th>\n",
       "      <td>vamshi</td>\n",
       "      <td>vamshi, under the eye of his mother is living ...</td>\n",
       "    </tr>\n",
       "    <tr>\n",
       "      <th>2847</th>\n",
       "      <td>chaddi dosth</td>\n",
       "      <td>the plot is simple. ranganna (rangayana raghu)...</td>\n",
       "    </tr>\n",
       "  </tbody>\n",
       "</table>\n",
       "<p>1751 rows × 2 columns</p>\n",
       "</div>"
      ],
      "text/plain": [
       "                              name  \\\n",
       "0                           neerja   \n",
       "1                      udta punjab   \n",
       "2      kabhi khushi kabhie gham...   \n",
       "3                    kal ho naa ho   \n",
       "4                          parched   \n",
       "...                            ...   \n",
       "2838                    run antony   \n",
       "2841                    jolly days   \n",
       "2842  the great story of sodabuddi   \n",
       "2844                        vamshi   \n",
       "2847                  chaddi dosth   \n",
       "\n",
       "                                            description  \n",
       "0     neerja is the story of the courageous neerja b...  \n",
       "1     a story that revolves around drug abuse in the...  \n",
       "2     yashvardhan raichand lives a very wealthy life...  \n",
       "3     naina, an introverted, perpetually depressed g...  \n",
       "4     'parched' is a story about women set in the he...  \n",
       "...                                                 ...  \n",
       "2838  antony is depressed and wants to commit suicid...  \n",
       "2841  a bubbly tale, the story is about four pairs o...  \n",
       "2842  the film tells the story of sodabuddi, who spe...  \n",
       "2844  vamshi, under the eye of his mother is living ...  \n",
       "2847  the plot is simple. ranganna (rangayana raghu)...  \n",
       "\n",
       "[1751 rows x 2 columns]"
      ]
     },
     "execution_count": 6,
     "metadata": {},
     "output_type": "execute_result"
    }
   ],
   "source": [
    "plotDF = plotDF.drop_duplicates()\n",
    "plotDF"
   ]
  },
  {
   "cell_type": "code",
   "execution_count": 7,
   "metadata": {},
   "outputs": [],
   "source": [
    "plotDF.to_csv('dataset.csv')"
   ]
  },
  {
   "cell_type": "code",
   "execution_count": 10,
   "metadata": {},
   "outputs": [],
   "source": [
    "indices = pd.Series(plotDF.index, index = plotDF['name'])\n",
    "indices.head()\n",
    "indices.to_csv('indices.csv')"
   ]
  },
  {
   "cell_type": "code",
   "execution_count": 23,
   "metadata": {},
   "outputs": [],
   "source": [
    "from sklearn.metrics.pairwise import linear_kernel\n",
    "from sklearn.feature_extraction.text import TfidfVectorizer\n",
    "def plot_based_recommender(title, df = plotDF, cosine_sim = cosine_sim, indices = indices):\n",
    "    tfidf = TfidfVectorizer(stop_words = 'english')\n",
    "    tfidf_matrix = tfidf.fit_transform(plotDF['description'])\n",
    "    cosine_sim = linear_kernel(tfidf_matrix, tfidf_matrix)\n",
    "    title = title.lower()\n",
    "    \n",
    "    try:\n",
    "        idx = indices[title]\n",
    "        print(idx)\n",
    "    \n",
    "    except KeyError:\n",
    "        print('Movie does not exist :(')\n",
    "        return False\n",
    "\n",
    "    sim_scores = list(enumerate(cosine_sim[idx]))\n",
    "    sim_scores = sorted(sim_scores, key = lambda x: x[1], reverse = True)\n",
    "    sim_scores = sim_scores[1:11]\n",
    "    \n",
    "    return sim_scores\n"
   ]
  },
  {
   "cell_type": "code",
   "execution_count": 24,
   "metadata": {},
   "outputs": [
    {
     "name": "stdout",
     "output_type": "stream",
     "text": [
      "146\n"
     ]
    },
    {
     "data": {
      "text/plain": [
       "[(105, 0.6471569244845783),\n",
       " (72, 0.3018031509442602),\n",
       " (1397, 0.19890719714591554),\n",
       " (1448, 0.1671644069430149),\n",
       " (164, 0.16335983699192846),\n",
       " (3, 0.15773651209948913),\n",
       " (490, 0.15727307825512746),\n",
       " (353, 0.13949811247949884),\n",
       " (1233, 0.1284247279579144),\n",
       " (1373, 0.12484794892003166)]"
      ]
     },
     "execution_count": 24,
     "metadata": {},
     "output_type": "execute_result"
    }
   ],
   "source": [
    "plot_based_recommender('Pyaar Ka Punchnama')"
   ]
  },
  {
   "cell_type": "code",
   "execution_count": 32,
   "metadata": {},
   "outputs": [
    {
     "data": {
      "text/plain": [
       "[1]"
      ]
     },
     "execution_count": 32,
     "metadata": {},
     "output_type": "execute_result"
    }
   ],
   "source": [
    "indices = pd.read_csv(\"indices.csv\")\n",
    "indices.index[indices['name']==\"udta punjab\"].tolist()"
   ]
  },
  {
   "cell_type": "code",
   "execution_count": null,
   "metadata": {},
   "outputs": [],
   "source": []
  }
 ],
 "metadata": {
  "kernelspec": {
   "display_name": "Python 3",
   "language": "python",
   "name": "python3"
  },
  "language_info": {
   "codemirror_mode": {
    "name": "ipython",
    "version": 3
   },
   "file_extension": ".py",
   "mimetype": "text/x-python",
   "name": "python",
   "nbconvert_exporter": "python",
   "pygments_lexer": "ipython3",
   "version": "3.8.5"
  }
 },
 "nbformat": 4,
 "nbformat_minor": 4
}
